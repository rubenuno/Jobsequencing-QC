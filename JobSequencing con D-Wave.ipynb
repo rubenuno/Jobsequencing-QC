{
 "cells": [
  {
   "cell_type": "markdown",
   "metadata": {},
   "source": [
    "# Resolviendo el modelo de Ising y el problema de \"Job Sequencing with Integer Lengths\" con un ordenador de D-Wave\n",
    "\n",
    "En este notebook, vamos a utilizar un ordenador cuántico de D-Wave para resolver casos del modelo de Ising que se corresponden con instancias del problema del *Job Sequencing with Integer Lengths*. \n",
    "\n",
    "\n",
    "\n"
   ]
  },
  {
   "cell_type": "markdown",
   "metadata": {},
   "source": [
    "El problema a resolver se define como:\n",
    "Tenemos una lista de ${N}$ trabajos para ${m}$ clusters de computadores. Cada trabajo ${i}$ tiene una longitud ${L_{i}}$. Ademas, cada trabajo puede ser asignado a un computador de un cluster tal que, si cada grupo de trabajos en el cluster ${\\alpha}$ es ${V_{\\alpha}}$, por tanto, la longitud de cada cluster se define como: \n",
    "\n",
    "$${M_{\\alpha} \\equiv \\sum _{i\\in V_{\\alpha}} L_{i,}}$$\n",
    "son elegidos tal que el max(${M_{\\alpha}}$) esta minimizado? Basicamente, esto significa que si ejecutamos todos los trabajos simultaneamente, todos los trabajos habrán terminado de ejecutarse en el menor tiempo posible. Esto es un problema NP-hard y hay una version (es $max(M_{\\alpha}) \\leq M_{0}?$) que es NP-completa. Asumimos que ${L_{i} \\in \\mathbb{N}}$.\n",
    "Para conseguir esto, empezaremos exigiendo que sin perdida de generalidad, ${M_{1} \\geq M_{\\alpha}}$ para cualquier valor de ${\\alpha}$, introducimos las variables ${x_{i,\\alpha}}$ que sera 1 si el trabajo ${i}$ es añadido al computador ${\\alpha}$, y 0 en caso contrario, y las variables ${y_{n,\\alpha}}$ para ${\\alpha \\ne 1}$ y ${n \\geq 0}$, que es 1 si la diferencia ${M_{1} - M_{\\alpha} = n}$. Por tanto, el hamiltoniano\n",
    "$$H_{A}= A \\sum_{i=1}^{N} \\left ( 1 - \\sum_{\\alpha }x_{i,a} \\right )^2\n",
    "+ A \\sum_{\\alpha=1}^{m} \\left (\n",
    "\\sum_{n=1}^{M}ny_{n,\\alpha} + \\sum _{i} L_{i}(x_{i,\\alpha} - x_{i,1}) \\right)^2$$ \n",
    "\n",
    "se encarga de que cada trabajo se asigne unicamente a un computador, y que ningun computador pueda tener una longitud mayor que el computador 1. El usuario debe elegir el numero ${M}$, y esta relacionado con la cantidad de giros (*spins*) auxiliares necesario para imponer adecuadamente las limitaciones de longitud que ${M_{1} \\geq {M_{\\alpha}}}$: en el peor de los casos, viene dado por $N max(L_{i})$. Para encontrar la longitud maxima minimizada ${M_{1}}$, usaremos: $${H_{B} = B \\sum_{i}L_{i}X_{i,1}}$$.\n",
    "De manera similar a encontrar los limites ${A/B}$ en el problema de la mochila, para que este hamiltoniano encuentre la solucion al problema, necesitamos, en el peor de los casos ${0 \\lt B{max}(L_{i}) \\lt A}$. Y usando el truco logaritmico, el numero de giros (*spins*) requeridos sera ${mN + (m - 1)[1 + \\log{M}]}$."
   ]
  },
  {
   "cell_type": "markdown",
   "metadata": {},
   "source": [
    "Definir el modelo con el que vamos a trabajar es muy sencillo: se reduce a especificar los valores de las conexiones entre pares de qubits y los coeficientes $h_i$. Por ejemplo:"
   ]
  },
  {
   "cell_type": "code",
   "execution_count": 2,
   "metadata": {},
   "outputs": [],
   "source": [
    "# TODO"
   ]
  },
  {
   "cell_type": "markdown",
   "metadata": {},
   "source": [
    "Podemos resolver el modelo de forma exacta"
   ]
  },
  {
   "cell_type": "code",
   "execution_count": 3,
   "metadata": {},
   "outputs": [],
   "source": [
    "# TODO"
   ]
  },
  {
   "cell_type": "markdown",
   "metadata": {},
   "source": [
    "O con *simulated annealing* (un método heurístico de optimización para ordenadores clásicos)"
   ]
  },
  {
   "cell_type": "code",
   "execution_count": 4,
   "metadata": {
    "scrolled": true
   },
   "outputs": [],
   "source": [
    "# TODO\n"
   ]
  },
  {
   "cell_type": "markdown",
   "metadata": {},
   "source": [
    "Y, por supuesto, con el ordenador cuántico de D-Wave (requiere registro online en https://cloud.dwavesys.com/leap/)"
   ]
  },
  {
   "cell_type": "code",
   "execution_count": 5,
   "metadata": {},
   "outputs": [],
   "source": [
    "# TODO"
   ]
  },
  {
   "cell_type": "markdown",
   "metadata": {},
   "source": [
    "Ahora, con *simulated annealing*"
   ]
  },
  {
   "cell_type": "code",
   "execution_count": 6,
   "metadata": {},
   "outputs": [],
   "source": [
    "# TODO\n"
   ]
  },
  {
   "cell_type": "markdown",
   "metadata": {},
   "source": [
    "Finalmente, lo resolvemos nuevamente con el *quantum annealer*"
   ]
  },
  {
   "cell_type": "code",
   "execution_count": 7,
   "metadata": {},
   "outputs": [],
   "source": [
    "# TODO"
   ]
  }
 ],
 "metadata": {
  "kernelspec": {
   "display_name": "Python 3",
   "language": "python",
   "name": "python3"
  },
  "language_info": {
   "codemirror_mode": {
    "name": "ipython",
    "version": 3
   },
   "file_extension": ".py",
   "mimetype": "text/x-python",
   "name": "python",
   "nbconvert_exporter": "python",
   "pygments_lexer": "ipython3",
   "version": "3.6.7"
  }
 },
 "nbformat": 4,
 "nbformat_minor": 2
}
